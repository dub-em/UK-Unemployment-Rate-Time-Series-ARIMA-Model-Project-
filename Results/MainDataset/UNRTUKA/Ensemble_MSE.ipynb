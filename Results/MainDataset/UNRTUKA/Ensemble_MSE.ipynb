{
 "cells": [
  {
   "cell_type": "markdown",
   "id": "87f29c5c",
   "metadata": {},
   "source": [
    "## Comparison of MSE for the two best models and their Ensemble"
   ]
  },
  {
   "cell_type": "markdown",
   "id": "8081c56d",
   "metadata": {},
   "source": [
    "### Package Importation"
   ]
  },
  {
   "cell_type": "code",
   "execution_count": 1,
   "id": "63312c0f",
   "metadata": {},
   "outputs": [],
   "source": [
    "import pandas as pd\n",
    "import numpy as np\n",
    "from sklearn.metrics import mean_squared_error"
   ]
  },
  {
   "cell_type": "markdown",
   "id": "0c2fbef9",
   "metadata": {},
   "source": [
    "### Dataset (Predictions) Importation"
   ]
  },
  {
   "cell_type": "code",
   "execution_count": 3,
   "id": "691351a1",
   "metadata": {},
   "outputs": [],
   "source": [
    "predictions = pd.read_excel('En.xlsx')"
   ]
  },
  {
   "cell_type": "code",
   "execution_count": 4,
   "id": "7669d8c0",
   "metadata": {},
   "outputs": [
    {
     "data": {
      "text/html": [
       "<div>\n",
       "<style scoped>\n",
       "    .dataframe tbody tr th:only-of-type {\n",
       "        vertical-align: middle;\n",
       "    }\n",
       "\n",
       "    .dataframe tbody tr th {\n",
       "        vertical-align: top;\n",
       "    }\n",
       "\n",
       "    .dataframe thead th {\n",
       "        text-align: right;\n",
       "    }\n",
       "</style>\n",
       "<table border=\"1\" class=\"dataframe\">\n",
       "  <thead>\n",
       "    <tr style=\"text-align: right;\">\n",
       "      <th></th>\n",
       "      <th>Date</th>\n",
       "      <th>Forecast Leg (k)</th>\n",
       "      <th>Actual Value</th>\n",
       "      <th>ARIMA(1,1,3)</th>\n",
       "      <th>ARIMA(2,1,1)</th>\n",
       "      <th>Ensemble Prediction</th>\n",
       "    </tr>\n",
       "  </thead>\n",
       "  <tbody>\n",
       "    <tr>\n",
       "      <th>0</th>\n",
       "      <td>2012</td>\n",
       "      <td>1</td>\n",
       "      <td>7.97</td>\n",
       "      <td>7.76</td>\n",
       "      <td>7.86</td>\n",
       "      <td>7.810</td>\n",
       "    </tr>\n",
       "    <tr>\n",
       "      <th>1</th>\n",
       "      <td>2013</td>\n",
       "      <td>2</td>\n",
       "      <td>7.61</td>\n",
       "      <td>7.45</td>\n",
       "      <td>7.57</td>\n",
       "      <td>7.510</td>\n",
       "    </tr>\n",
       "    <tr>\n",
       "      <th>2</th>\n",
       "      <td>2014</td>\n",
       "      <td>3</td>\n",
       "      <td>6.18</td>\n",
       "      <td>7.15</td>\n",
       "      <td>7.31</td>\n",
       "      <td>7.230</td>\n",
       "    </tr>\n",
       "    <tr>\n",
       "      <th>3</th>\n",
       "      <td>2015</td>\n",
       "      <td>4</td>\n",
       "      <td>5.38</td>\n",
       "      <td>6.92</td>\n",
       "      <td>7.10</td>\n",
       "      <td>7.010</td>\n",
       "    </tr>\n",
       "    <tr>\n",
       "      <th>4</th>\n",
       "      <td>2016</td>\n",
       "      <td>5</td>\n",
       "      <td>4.90</td>\n",
       "      <td>6.74</td>\n",
       "      <td>6.93</td>\n",
       "      <td>6.835</td>\n",
       "    </tr>\n",
       "  </tbody>\n",
       "</table>\n",
       "</div>"
      ],
      "text/plain": [
       "   Date  Forecast Leg (k)  Actual Value  ARIMA(1,1,3)  ARIMA(2,1,1)  \\\n",
       "0  2012                 1          7.97          7.76          7.86   \n",
       "1  2013                 2          7.61          7.45          7.57   \n",
       "2  2014                 3          6.18          7.15          7.31   \n",
       "3  2015                 4          5.38          6.92          7.10   \n",
       "4  2016                 5          4.90          6.74          6.93   \n",
       "\n",
       "   Ensemble Prediction  \n",
       "0                7.810  \n",
       "1                7.510  \n",
       "2                7.230  \n",
       "3                7.010  \n",
       "4                6.835  "
      ]
     },
     "execution_count": 4,
     "metadata": {},
     "output_type": "execute_result"
    }
   ],
   "source": [
    "predictions.head()"
   ]
  },
  {
   "cell_type": "markdown",
   "id": "ff45bf6f",
   "metadata": {},
   "source": [
    "### MSE Calculation and Comparison"
   ]
  },
  {
   "cell_type": "code",
   "execution_count": 6,
   "id": "625441d8",
   "metadata": {},
   "outputs": [
    {
     "name": "stdout",
     "output_type": "stream",
     "text": [
      "Mean Squared Error (ARIMA(1,1,3)):  1.35356\n",
      "Mean Squared Error (ARIMA(2,1,1)):  1.6739799999999991\n",
      "Mean Squared Error (Ensemble):  1.507845\n"
     ]
    }
   ],
   "source": [
    "# Calculation of Mean Squared Error (MSE)\n",
    "\n",
    "print('Mean Squared Error (ARIMA(1,1,3)): ',mean_squared_error(predictions['Actual Value'],predictions['ARIMA(1,1,3)']))\n",
    "print('Mean Squared Error (ARIMA(2,1,1)): ',mean_squared_error(predictions['Actual Value'],predictions['ARIMA(2,1,1)']))\n",
    "print('Mean Squared Error (Ensemble): ',mean_squared_error(predictions['Actual Value'],predictions['Ensemble Prediction']))"
   ]
  },
  {
   "cell_type": "code",
   "execution_count": null,
   "id": "8e07c659",
   "metadata": {},
   "outputs": [],
   "source": []
  }
 ],
 "metadata": {
  "kernelspec": {
   "display_name": "Python 3 (ipykernel)",
   "language": "python",
   "name": "python3"
  },
  "language_info": {
   "codemirror_mode": {
    "name": "ipython",
    "version": 3
   },
   "file_extension": ".py",
   "mimetype": "text/x-python",
   "name": "python",
   "nbconvert_exporter": "python",
   "pygments_lexer": "ipython3",
   "version": "3.9.12"
  }
 },
 "nbformat": 4,
 "nbformat_minor": 5
}
